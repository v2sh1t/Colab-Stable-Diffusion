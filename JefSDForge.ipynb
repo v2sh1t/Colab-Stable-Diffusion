{
  "nbformat": 4,
  "nbformat_minor": 0,
  "metadata": {
    "colab": {
      "provenance": [],
      "gpuType": "T4",
      "include_colab_link": true
    },
    "kernelspec": {
      "name": "python3",
      "display_name": "Python 3"
    },
    "language_info": {
      "name": "python"
    },
    "accelerator": "GPU"
  },
  "cells": [
    {
      "cell_type": "markdown",
      "metadata": {
        "id": "view-in-github",
        "colab_type": "text"
      },
      "source": [
        "<a href=\"https://colab.research.google.com/github/v2sh1t/Colab-Stable-Diffusion/blob/main/JefSDForge.ipynb\" target=\"_parent\"><img src=\"https://colab.research.google.com/assets/colab-badge.svg\" alt=\"Open In Colab\"/></a>"
      ]
    },
    {
      "cell_type": "markdown",
      "source": [
        "# Jef's SD Forge Colab\n",
        "## Fork from https://github.com/RedDeltas/SDForge-Colab\n",
        "\n",
        "The notebook is intended to make it easy to use [Stable Diffusion WebUI Forge](https://github.com/lllyasviel/stable-diffusion-webui-forge) in Google Colab. If you run into any problems or have any suggestions, please create an Issue on Github.\n",
        "\n",
        "## Parameters\n",
        "\n",
        "\n",
        "*   **USE_GOOGLE_DRIVE** - Stores the Forge installation in your GDrive, this makes it easy to store your generated images, checkpoints, installed extensions etc between sessions\n",
        "*   **UPDATE_FORGE** - Update your Forge installation when you run this notebook\n",
        "*   **INSTALL_DEPS** - Installs optional dependencies such as `insightface`\n",
        "*   **ALLOW_EXTENSION_INSTALLATION** - Allow installing extensions through the UI **Warning**: It is recommended to have **USE_USERNAME_AND_PASSWORD** turned on if you're using this, otherwise anyone with your Gradio URL could install malicious extensions on your instance\n",
        "*   **USE_USERNAME_AND_PASSWORD** - Require inputting a username and password when accessing the Gradio URL\n",
        "*   **USERNAME** - Username to use when accessing the Gradio URL\n",
        "*   **PASSWORD** - Password to use when accessing the Gradio URL\n",
        "\n"
      ],
      "metadata": {
        "id": "G1THoku412to"
      }
    },
    {
      "cell_type": "code",
      "source": [
        "from google.colab import drive\n",
        "\n",
        "USE_GOOGLE_DRIVE = False  #@param {type:\"boolean\"}\n",
        "UPDATE_FORGE = True  #@param {type:\"boolean\"}\n",
        "INSTALL_DEPS = True #@param {type:\"boolean\"}\n",
        "ALLOW_EXTENSION_INSTALLATION = True #@param {type:\"boolean\"}\n",
        "USE_USERNAME_AND_PASSWORD = True #@param {type:\"boolean\"}\n",
        "USERNAME = \"\" # @param {type:\"string\"}\n",
        "PASSWORD = \"\" # @param {type:\"string\"}\n",
        "\n",
        "WORKSPACE = '/content/stable-diffusion-webui-forge'\n",
        "\n",
        "if USE_GOOGLE_DRIVE:\n",
        "  print(\"📂 Connecting to Google Drive...\")\n",
        "  drive.mount('/content/drive')\n",
        "\n",
        "  WORKSPACE = \"/content/drive/MyDrive/stable-diffusion-webui-forge\"\n",
        "  %cd /content/drive/MyDrive\n",
        "\n",
        "![ ! -d $WORKSPACE ] && echo -= Initial setup SDForge =- && git clone --config core.filemode=false https://github.com/lllyasviel/stable-diffusion-webui-forge.git"
      ],
      "metadata": {
        "id": "rEeZ9in5tBhT",
        "cellView": "form"
      },
      "execution_count": 6,
      "outputs": []
    },
    {
      "cell_type": "code",
      "source": [
        "#@title Download Models\n",
        "!pip3 install \"huggingface_hub[hf_transfer]\"\n",
        "\n",
        "%cd $WORKSPACE\n",
        "import os, subprocess, sys\n",
        "\n",
        "repo_id = \"\" #@param {'type': 'string'}\n",
        "allow_patterns = \"\" #@param {'type': 'string'}\n",
        "dir = \"\" #@param {'type': 'string'}\n",
        "\n",
        "def install_huggingface_hub():\n",
        "  subprocess.check_call([sys.executable, \"-m\", \"pip\", \"install\", \"huggingface_hub[hf_transfer]\"])\n",
        "\n",
        "def download_models():\n",
        "  try:\n",
        "    from huggingface_hub import snapshot_download\n",
        "    os.environ[\"HF_HUB_ENABLE_HF_TRANSFER\"] = \"1\"\n",
        "    snapshot_download(\n",
        "      repo_id=f\"{repo_id}\",\n",
        "      allow_patterns=f\"{allow_patterns}\",\n",
        "      local_dir=f\"{WORKSPACE}/models/{dir}\"\n",
        "    )\n",
        "  except ImportError:\n",
        "    print(\"huggingface_hub is not installed. Installing now...\")\n",
        "    install_huggingface_hub()\n",
        "    from huggingface_hub import snapshot_download\n",
        "\n",
        "if __name__ == \"__main__\":\n",
        "  download_models()"
      ],
      "metadata": {
        "cellView": "form",
        "id": "5OlYDd445vqx"
      },
      "execution_count": null,
      "outputs": []
    },
    {
      "cell_type": "code",
      "source": [
        "#@title Run Forge on Web\n",
        "\n",
        "%cd $WORKSPACE\n",
        "\n",
        "extra_args = []\n",
        "\n",
        "if UPDATE_FORGE:\n",
        "  !echo -= Updating SDForge =-\n",
        "  !git pull\n",
        "\n",
        "if INSTALL_DEPS:\n",
        "  !echo -= Install dependencies =-\n",
        "  !pip3 install insightface\n",
        "\n",
        "if ALLOW_EXTENSION_INSTALLATION:\n",
        "  extra_args.append(\"--enable-insecure-extension-access\")\n",
        "\n",
        "if USE_USERNAME_AND_PASSWORD:\n",
        "  extra_args.append(f\"--gradio-auth {USERNAME}:{PASSWORD}\")\n",
        "\n",
        "extra_args_concat = \" \".join(extra_args)\n",
        "\n",
        "!python launch.py --share {extra_args_concat}"
      ],
      "metadata": {
        "id": "k_fsFs4jdrhj",
        "cellView": "form"
      },
      "execution_count": null,
      "outputs": []
    }
  ]
}